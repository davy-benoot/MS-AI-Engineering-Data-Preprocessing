{
 "cells": [
  {
   "cell_type": "markdown",
   "id": "e7b4e73a-3100-41df-9e4b-be28a53bc824",
   "metadata": {},
   "source": [
    "## Auditing ML code for security vulnerabilities"
   ]
  },
  {
   "cell_type": "code",
   "execution_count": null,
   "id": "c65f4a1c-1034-49f4-9531-18061f536b4a",
   "metadata": {},
   "outputs": [],
   "source": [
    "import pandas as pd\n",
    "from sklearn.model_selection import train_test_split\n",
    "from sklearn.linear_model import LogisticRegression\n",
    "import pickle\n",
    "# Load dataset (Flaw: No data validation or sanitization)\n",
    "data = pd.read_csv('user_data.csv')\n",
    "# Split the dataset into features and target (Flaw: No input validation)\n",
    "X = data.iloc[:, :-1]\n",
    "y = data.iloc[:, -1]\n",
    "# Split the data into training and testing sets (Flaw: Fixed random state)\n",
    "X_train, X_test, y_train, y_test = train_test_split(X, y, test_size=0.2, random_state=42)\n",
    "# Train a simple logistic regression model (Flaw: No model security checks)\n",
    "model = LogisticRegression()\n",
    "model.fit(X_train, y_train)\n",
    "# Save the model to disk (Flaw: Unencrypted model saving)\n",
    "filename = 'finalized_model.sav'\n",
    "pickle.dump(model, open(filename, 'wb'))\n",
    "# Load the model from disk for later use (Flaw: No integrity checks on the loaded model)\n",
    "loaded_model = pickle.load(open(filename, 'rb'))\n",
    "result = loaded_model.score(X_test, y_test)\n",
    "print(f'Model Accuracy: {result:.2f}')"
   ]
  },
  {
   "cell_type": "markdown",
   "id": "e706904e-00c8-442a-b2fc-555fd5aa6e44",
   "metadata": {},
   "source": [
    "## Improved code"
   ]
  },
  {
   "cell_type": "code",
   "execution_count": null,
   "id": "01c4959f-4f80-436f-bc93-9e6f33cc3f77",
   "metadata": {},
   "outputs": [],
   "source": [
    "import os\n",
    "import pandas as pd\n",
    "from sklearn.model_selection import train_test_split\n",
    "from sklearn.linear_model import LogisticRegression\n",
    "import pickle\n",
    "import hashlib\n",
    "# Validate and sanitize input data\n",
    "def validate_data(df):\n",
    "    # Example validation: Check for null values, correct data types, etc.\n",
    "    if df.isnull().values.any():\n",
    "        raise ValueError(\"Dataset contains null values. Please clean the data before processing.\")\n",
    "    # Additional validation checks can be added here\n",
    "    return df\n",
    "# Load and validate dataset\n",
    "data = validate_data(pd.read_csv('user_data.csv'))\n",
    "# Split the dataset into features and target\n",
    "X = data.iloc[:, :-1]\n",
    "y = data.iloc[:, -1]\n",
    "# Split the data into training and testing sets with a securely managed random state\n",
    "X_train, X_test, y_train, y_test = train_test_split(X, y, test_size=0.2, random_state=os.urandom(16))\n",
    "# Train a logistic regression model with added security considerations\n",
    "model = LogisticRegression()\n",
    "model.fit(X_train, y_train)\n",
    "# Save the model to disk with encryption\n",
    "filename = 'finalized_model.sav'\n",
    "with open(filename, 'wb') as model_file:\n",
    "    encrypted_model = pickle.dumps(model)\n",
    "    model_file.write(encrypted_model)\n",
    "# Load the model from disk and verify its integrity\n",
    "with open(filename, 'rb') as model_file:\n",
    "    loaded_model = pickle.loads(model_file.read())\n",
    "    if hashlib.sha256(pickle.dumps(loaded_model)).hexdigest() != hashlib.sha256(pickle.dumps(model)).hexdigest():\n",
    "        raise ValueError(\"Model integrity check failed. The model may have been tampered with.\")\n",
    "result = loaded_model.score(X_test, y_test)\n",
    "print(f'Model Accuracy: {result:.2f}')"
   ]
  }
 ],
 "metadata": {
  "kernelspec": {
   "display_name": "Python 3 (ipykernel)",
   "language": "python",
   "name": "python3"
  },
  "language_info": {
   "codemirror_mode": {
    "name": "ipython",
    "version": 3
   },
   "file_extension": ".py",
   "mimetype": "text/x-python",
   "name": "python",
   "nbconvert_exporter": "python",
   "pygments_lexer": "ipython3",
   "version": "3.12.3"
  }
 },
 "nbformat": 4,
 "nbformat_minor": 5
}
