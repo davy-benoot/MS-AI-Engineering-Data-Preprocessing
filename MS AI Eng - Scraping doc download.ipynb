{
 "cells": [
  {
   "cell_type": "code",
   "execution_count": 2,
   "id": "155eaba7-369e-490a-b608-e46cb7e7b855",
   "metadata": {},
   "outputs": [
    {
     "ename": "TypeError",
     "evalue": "'NoneType' object is not subscriptable",
     "output_type": "error",
     "traceback": [
      "\u001b[31m---------------------------------------------------------------------------\u001b[39m",
      "\u001b[31mTypeError\u001b[39m                                 Traceback (most recent call last)",
      "\u001b[36mCell\u001b[39m\u001b[36m \u001b[39m\u001b[32mIn[2]\u001b[39m\u001b[32m, line 17\u001b[39m\n\u001b[32m     14\u001b[39m     exit()\n\u001b[32m     16\u001b[39m \u001b[38;5;66;03m# Step 2: Find the document link\u001b[39;00m\n\u001b[32m---> \u001b[39m\u001b[32m17\u001b[39m document_link = \u001b[43msoup\u001b[49m\u001b[43m.\u001b[49m\u001b[43mfind\u001b[49m\u001b[43m(\u001b[49m\u001b[33;43m'\u001b[39;49m\u001b[33;43ma\u001b[39;49m\u001b[33;43m'\u001b[39;49m\u001b[43m,\u001b[49m\u001b[43m \u001b[49m\u001b[43m{\u001b[49m\u001b[33;43m'\u001b[39;49m\u001b[33;43mclass\u001b[39;49m\u001b[33;43m'\u001b[39;49m\u001b[43m:\u001b[49m\u001b[43m \u001b[49m\u001b[33;43m'\u001b[39;49m\u001b[33;43mdownload-link\u001b[39;49m\u001b[33;43m'\u001b[39;49m\u001b[43m}\u001b[49m\u001b[43m)\u001b[49m\u001b[43m[\u001b[49m\u001b[33;43m'\u001b[39;49m\u001b[33;43mhref\u001b[39;49m\u001b[33;43m'\u001b[39;49m\u001b[43m]\u001b[49m\n\u001b[32m     19\u001b[39m \u001b[38;5;66;03m# Print the document link to verify\u001b[39;00m\n\u001b[32m     20\u001b[39m \u001b[38;5;28mprint\u001b[39m(\u001b[33m'\u001b[39m\u001b[33mDocument link found:\u001b[39m\u001b[33m'\u001b[39m, document_link)\n",
      "\u001b[31mTypeError\u001b[39m: 'NoneType' object is not subscriptable"
     ]
    }
   ],
   "source": [
    "import requests\n",
    "from bs4 import BeautifulSoup\n",
    "import os\n",
    "\n",
    "# Step 1: Send an HTTP request to the webpage\n",
    "url = 'https://www.istqb.org/certifications/certified-tester-foundation-level-ctfl-v4-0/'  # Replace with the actual URL\n",
    "response = requests.get(url)\n",
    "\n",
    "# Check if the request was successful\n",
    "if response.status_code == 200:\n",
    "    soup = BeautifulSoup(response.content, 'html.parser')\n",
    "else:\n",
    "    print('Failed to retrieve the webpage.')\n",
    "    exit()\n",
    "\n",
    "# Step 2: Find the document link\n",
    "document_link = soup.find('a', {'class': 'download-link'})['href']\n",
    "\n",
    "# Print the document link to verify\n",
    "print('Document link found:', document_link)"
   ]
  },
  {
   "cell_type": "code",
   "execution_count": 3,
   "id": "d9bff96b-7d61-494d-a3a8-7e4082837db0",
   "metadata": {},
   "outputs": [
    {
     "name": "stdout",
     "output_type": "stream",
     "text": [
      "Document downloaded successfully.\n"
     ]
    }
   ],
   "source": [
    "# Step 3: Download the document\n",
    "document_response = requests.get('https://www.istqb.org/wp-content/uploads/2024/11/ISTQB_CTFL_Syllabus_v4.0.1.pdf')\n",
    "\n",
    "# Check if the document request was successful\n",
    "if document_response.status_code == 200:\n",
    "    # Save the document to a file\n",
    "    with open('report.pdf', 'wb') as file:\n",
    "        file.write(document_response.content)\n",
    "    print('Document downloaded successfully.')\n",
    "else:\n",
    "    print('Failed to download the document. Status code:', document_response.status_code)"
   ]
  },
  {
   "cell_type": "code",
   "execution_count": null,
   "id": "475b7206-aff0-4ce3-ab26-047b1f86690c",
   "metadata": {},
   "outputs": [],
   "source": []
  }
 ],
 "metadata": {
  "kernelspec": {
   "display_name": "Python 3 (ipykernel)",
   "language": "python",
   "name": "python3"
  },
  "language_info": {
   "codemirror_mode": {
    "name": "ipython",
    "version": 3
   },
   "file_extension": ".py",
   "mimetype": "text/x-python",
   "name": "python",
   "nbconvert_exporter": "python",
   "pygments_lexer": "ipython3",
   "version": "3.12.3"
  }
 },
 "nbformat": 4,
 "nbformat_minor": 5
}
