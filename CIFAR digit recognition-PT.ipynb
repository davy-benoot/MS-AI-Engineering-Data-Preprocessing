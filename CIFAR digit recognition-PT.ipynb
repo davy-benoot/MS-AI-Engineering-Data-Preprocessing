{
 "cells": [
  {
   "cell_type": "code",
   "execution_count": 9,
   "id": "a2df408c",
   "metadata": {},
   "outputs": [],
   "source": [
    "import torch\n",
    "import torch.nn as nn\n",
    "import torch.optim as optim\n",
    "import torch.nn.functional as F\n",
    "import torchvision\n",
    "import torchvision.transforms as transforms\n",
    "import matplotlib.pyplot as plt"
   ]
  },
  {
   "cell_type": "code",
   "execution_count": 10,
   "id": "552cd61f",
   "metadata": {},
   "outputs": [],
   "source": [
    "transform = transforms.Compose([transforms.ToTensor(), transforms.Normalize((0.5, 0.5, 0.5), (0.5, 0.5, 0.5))])\n",
    "\n",
    "trainset = torchvision.datasets.CIFAR10(root='./data', train=True, download=True, transform=transform)\n",
    "trainloader = torch.utils.data.DataLoader(trainset, batch_size=4, shuffle=True, num_workers=2)\n",
    "\n",
    "testset = torchvision.datasets.CIFAR10(root='./data', train=False, download=True, transform=transform)\n",
    "testloader = torch.utils.data.DataLoader(testset, batch_size=4, shuffle=False, num_workers=2)"
   ]
  },
  {
   "cell_type": "code",
   "execution_count": 11,
   "id": "080e4f7b",
   "metadata": {},
   "outputs": [],
   "source": [
    "class Net(nn.Module):\n",
    "    def __init__(self):\n",
    "        super(Net, self).__init__()\n",
    "        self.conv1 = nn.Conv2d(3, 6, 5)\n",
    "        self.pool = nn.MaxPool2d(2, 2)\n",
    "        self.conv2 = nn.Conv2d(6, 16, 5)\n",
    "        self.fc1 = nn.Linear(16 * 5 * 5, 120)\n",
    "        self.fc2 = nn.Linear(120, 84)\n",
    "        self.fc3 = nn.Linear(84, 10)\n",
    "\n",
    "    def forward(self, x):\n",
    "        x = self.pool(F.relu(self.conv1(x)))\n",
    "        x = self.pool(F.relu(self.conv2(x)))\n",
    "        x = x.view(-1, 16 * 5 * 5)\n",
    "        x = F.relu(self.fc1(x))\n",
    "        x = F.relu(self.fc2(x))\n",
    "        x = self.fc3(x)\n",
    "        return x\n",
    "\n",
    "net = Net()"
   ]
  },
  {
   "cell_type": "code",
   "execution_count": 12,
   "id": "e19158ab",
   "metadata": {},
   "outputs": [
    {
     "name": "stdout",
     "output_type": "stream",
     "text": [
      "[Epoch 1, Batch 2000] loss: 2.228\n",
      "[Epoch 1, Batch 4000] loss: 1.856\n",
      "[Epoch 1, Batch 6000] loss: 1.682\n",
      "[Epoch 1, Batch 8000] loss: 1.599\n",
      "[Epoch 1, Batch 10000] loss: 1.528\n",
      "[Epoch 1, Batch 12000] loss: 1.455\n",
      "[Epoch 2, Batch 2000] loss: 1.397\n",
      "[Epoch 2, Batch 4000] loss: 1.359\n",
      "[Epoch 2, Batch 6000] loss: 1.328\n",
      "[Epoch 2, Batch 8000] loss: 1.314\n",
      "[Epoch 2, Batch 10000] loss: 1.309\n",
      "[Epoch 2, Batch 12000] loss: 1.265\n",
      "[Epoch 3, Batch 2000] loss: 1.223\n",
      "[Epoch 3, Batch 4000] loss: 1.194\n",
      "[Epoch 3, Batch 6000] loss: 1.180\n",
      "[Epoch 3, Batch 8000] loss: 1.166\n",
      "[Epoch 3, Batch 10000] loss: 1.166\n",
      "[Epoch 3, Batch 12000] loss: 1.178\n",
      "[Epoch 4, Batch 2000] loss: 1.094\n",
      "[Epoch 4, Batch 4000] loss: 1.096\n",
      "[Epoch 4, Batch 6000] loss: 1.081\n",
      "[Epoch 4, Batch 8000] loss: 1.098\n",
      "[Epoch 4, Batch 10000] loss: 1.081\n",
      "[Epoch 4, Batch 12000] loss: 1.094\n",
      "[Epoch 5, Batch 2000] loss: 1.009\n",
      "[Epoch 5, Batch 4000] loss: 1.028\n",
      "[Epoch 5, Batch 6000] loss: 1.018\n",
      "[Epoch 5, Batch 8000] loss: 1.008\n",
      "[Epoch 5, Batch 10000] loss: 1.023\n",
      "[Epoch 5, Batch 12000] loss: 1.024\n",
      "[Epoch 6, Batch 2000] loss: 0.927\n",
      "[Epoch 6, Batch 4000] loss: 0.963\n",
      "[Epoch 6, Batch 6000] loss: 0.978\n",
      "[Epoch 6, Batch 8000] loss: 0.968\n",
      "[Epoch 6, Batch 10000] loss: 0.978\n",
      "[Epoch 6, Batch 12000] loss: 0.985\n",
      "[Epoch 7, Batch 2000] loss: 0.873\n",
      "[Epoch 7, Batch 4000] loss: 0.892\n",
      "[Epoch 7, Batch 6000] loss: 0.928\n",
      "[Epoch 7, Batch 8000] loss: 0.920\n",
      "[Epoch 7, Batch 10000] loss: 0.942\n",
      "[Epoch 7, Batch 12000] loss: 0.929\n",
      "[Epoch 8, Batch 2000] loss: 0.844\n",
      "[Epoch 8, Batch 4000] loss: 0.872\n",
      "[Epoch 8, Batch 6000] loss: 0.877\n",
      "[Epoch 8, Batch 8000] loss: 0.880\n",
      "[Epoch 8, Batch 10000] loss: 0.893\n",
      "[Epoch 8, Batch 12000] loss: 0.905\n",
      "[Epoch 9, Batch 2000] loss: 0.804\n",
      "[Epoch 9, Batch 4000] loss: 0.823\n",
      "[Epoch 9, Batch 6000] loss: 0.853\n",
      "[Epoch 9, Batch 8000] loss: 0.860\n",
      "[Epoch 9, Batch 10000] loss: 0.871\n",
      "[Epoch 9, Batch 12000] loss: 0.847\n",
      "[Epoch 10, Batch 2000] loss: 0.767\n",
      "[Epoch 10, Batch 4000] loss: 0.769\n",
      "[Epoch 10, Batch 6000] loss: 0.833\n",
      "[Epoch 10, Batch 8000] loss: 0.811\n",
      "[Epoch 10, Batch 10000] loss: 0.843\n",
      "[Epoch 10, Batch 12000] loss: 0.851\n",
      "Finished Training\n"
     ]
    }
   ],
   "source": [
    "criterion = nn.CrossEntropyLoss()\n",
    "optimizer = optim.SGD(net.parameters(), lr=0.001, momentum=0.9)\n",
    "\n",
    "for epoch in range(10):\n",
    "    running_loss = 0.0\n",
    "    for i, data in enumerate(trainloader, 0):\n",
    "        inputs, labels = data\n",
    "        optimizer.zero_grad()\n",
    "        outputs = net(inputs)\n",
    "        loss = criterion(outputs, labels)\n",
    "        loss.backward()\n",
    "        optimizer.step()\n",
    "\n",
    "        running_loss += loss.item()\n",
    "        if i % 2000 == 1999:\n",
    "            print(f'[Epoch {epoch + 1}, Batch {i + 1}] loss: {running_loss / 2000:.3f}')\n",
    "            running_loss = 0.0\n",
    "\n",
    "print('Finished Training')"
   ]
  },
  {
   "cell_type": "code",
   "execution_count": 13,
   "id": "39344bb7",
   "metadata": {},
   "outputs": [
    {
     "name": "stdout",
     "output_type": "stream",
     "text": [
      "Accuracy of the network on the 10000 test images: 62.82 %\n"
     ]
    }
   ],
   "source": [
    "correct = 0\n",
    "total = 0\n",
    "with torch.no_grad():\n",
    "    for data in testloader:\n",
    "        images, labels = data\n",
    "        outputs = net(images)\n",
    "        _, predicted = torch.max(outputs.data, 1)\n",
    "        total += labels.size(0)\n",
    "        correct += (predicted == labels).sum().item()\n",
    "\n",
    "print(f'Accuracy of the network on the 10000 test images: {100 * correct / total} %')"
   ]
  },
  {
   "cell_type": "code",
   "execution_count": 14,
   "id": "2d31ed62",
   "metadata": {},
   "outputs": [],
   "source": [
    "PATH = './cifar_net.pth'\n",
    "torch.save(net.state_dict(), PATH)"
   ]
  },
  {
   "cell_type": "code",
   "execution_count": null,
   "id": "6d669006",
   "metadata": {},
   "outputs": [],
   "source": []
  }
 ],
 "metadata": {
  "kernelspec": {
   "display_name": "venv",
   "language": "python",
   "name": "python3"
  },
  "language_info": {
   "codemirror_mode": {
    "name": "ipython",
    "version": 3
   },
   "file_extension": ".py",
   "mimetype": "text/x-python",
   "name": "python",
   "nbconvert_exporter": "python",
   "pygments_lexer": "ipython3",
   "version": "3.12.3"
  }
 },
 "nbformat": 4,
 "nbformat_minor": 5
}
