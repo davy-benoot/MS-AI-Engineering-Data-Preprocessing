{
 "cells": [
  {
   "cell_type": "code",
   "execution_count": 18,
   "id": "afad7940-69b8-4df9-9b10-73120458caad",
   "metadata": {},
   "outputs": [],
   "source": [
    "# Generate dummy data\n",
    "\n",
    "import pandas as pd\n",
    "import numpy as np\n",
    "from scipy import stats\n",
    "from sklearn.preprocessing import StandardScaler"
   ]
  },
  {
   "cell_type": "code",
   "execution_count": 19,
   "id": "c3703dd9-7ad0-4e3f-8e88-f63b0dbdeac2",
   "metadata": {},
   "outputs": [
    {
     "name": "stdout",
     "output_type": "stream",
     "text": [
      "     Feature1  Feature2 Category  Target\n",
      "0  117.640523        32        A       1\n",
      "1  104.001572        70        B       1\n",
      "2  109.787380        85        C       0\n",
      "3  122.408932        31        D       1\n",
      "4  118.675580        13        A       0\n"
     ]
    }
   ],
   "source": [
    "# Create a dummy dataset\n",
    "np.random.seed(0)\n",
    "dummy_data = {\n",
    "    'Feature1': np.random.normal(100, 10, 100).tolist() + [np.nan, 200],  # Normally distributed with an outlier\n",
    "    'Feature2': np.random.randint(0, 100, 102).tolist(),  # Random integers\n",
    "    'Category': ['A', 'B', 'C', 'D'] * 25 + [np.nan, 'A'],  # Categorical with some missing values\n",
    "    'Target': np.random.choice([0, 1], 102).tolist()  # Binary target variable\n",
    "}\n",
    "\n",
    "# Convert the dictionary to a pandas DataFrame\n",
    "df_dummy = pd.DataFrame(dummy_data)\n",
    "\n",
    "# Display the first few rows of the dummy dataset\n",
    "print(df_dummy.head())"
   ]
  },
  {
   "cell_type": "code",
   "execution_count": 20,
   "id": "4a2d3b83-3a67-46e4-981e-df3a9239db14",
   "metadata": {},
   "outputs": [],
   "source": [
    "# Preprocessing function definition\n",
    "\n",
    "def load_data(df):\n",
    "    return df\n",
    "\n",
    "def handle_missing_values(df):\n",
    "    \"\"\"\n",
    "    Handles missing values in a DataFrame.\n",
    "    For numeric columns, fills missing values with the mean of that column.\n",
    "    For non-numeric columns, fills missing values with the mode of that column,\n",
    "    or a specified placeholder if mode is not suitable or missing.\n",
    "\n",
    "    Args:\n",
    "        df (pd.DataFrame): The input DataFrame with potential missing values.\n",
    "\n",
    "    Returns:\n",
    "        pd.DataFrame: The DataFrame with missing values handled.\n",
    "    \"\"\"\n",
    "    if not isinstance(df, pd.DataFrame):\n",
    "        raise TypeError(\"Input must be a pandas DataFrame.\")\n",
    "\n",
    "    df_copy = df.copy() # Work on a copy to avoid modifying the original DataFrame\n",
    "\n",
    "    # Handle numeric columns\n",
    "    numeric_cols = df_copy.select_dtypes(include=['number']).columns\n",
    "    if not numeric_cols.empty:\n",
    "        try:\n",
    "            df_copy[numeric_cols] = df_copy[numeric_cols].fillna(df_copy[numeric_cols].mean())\n",
    "        except Exception as e:\n",
    "            print(f\"Error handling missing values in numeric columns: {e}\")\n",
    "            # Depending on your needs, you might want to re-raise the exception,\n",
    "            # fill with a different value, or log it.\n",
    "\n",
    "    # Handle non-numeric (object/string) columns\n",
    "    # For non-numeric columns, filling with the mode is often a reasonable strategy.\n",
    "    # You might want to customize this based on the specific data.\n",
    "    object_cols = df_copy.select_dtypes(include=['object', 'category']).columns\n",
    "    if not object_cols.empty:\n",
    "        for col in object_cols:\n",
    "            if df_copy[col].isnull().any(): # Check if there are any missing values\n",
    "                try:\n",
    "                    mode_val = df_copy[col].mode()[0]\n",
    "                    df_copy[col] = df_copy[col].fillna(mode_val)\n",
    "                except IndexError:\n",
    "                    # This can happen if a column is entirely NaN or has no mode\n",
    "                    print(f\"Warning: Could not determine mode for column '{col}'. Filling with 'Unknown'.\")\n",
    "                    df_copy[col] = df_copy[col].fillna('Unknown')\n",
    "                except Exception as e:\n",
    "                    print(f\"Error handling missing values in non-numeric column '{col}': {e}\")\n",
    "                    # Fallback for other errors in non-numeric columns\n",
    "                    df_copy[col] = df_copy[col].fillna('ErrorPlaceholder') # Or a more suitable placeholder\n",
    "\n",
    "    # You might also want to consider datetime columns or other specific dtypes\n",
    "    # and add handling for them if necessary.\n",
    "\n",
    "    return df_copy\n",
    "\n",
    "def remove_outliers(df):\n",
    "    z_scores = np.abs(stats.zscore(df.select_dtypes(include=[np.number])))\n",
    "    return df[(z_scores < 3).all(axis=1)]  # Remove rows with any outliers\n",
    "\n",
    "def scale_data(df):\n",
    "    scaler = StandardScaler()\n",
    "    df[df.select_dtypes(include=[np.number]).columns] = scaler.fit_transform(df.select_dtypes(include=[np.number]))\n",
    "    return df\n",
    "\n",
    "def encode_categorical(df, categorical_columns):\n",
    "    return pd.get_dummies(df, columns=categorical_columns)\n",
    "\n",
    "def save_data(df, output_filepath):\n",
    "    df.to_csv(output_filepath, index=False)"
   ]
  },
  {
   "cell_type": "code",
   "execution_count": 21,
   "id": "1acee1be-4e4d-4307-bfa3-4264c6cc7b82",
   "metadata": {},
   "outputs": [
    {
     "name": "stdout",
     "output_type": "stream",
     "text": [
      "<class 'pandas.core.frame.DataFrame'>\n",
      "RangeIndex: 102 entries, 0 to 101\n",
      "Data columns (total 4 columns):\n",
      " #   Column    Non-Null Count  Dtype  \n",
      "---  ------    --------------  -----  \n",
      " 0   Feature1  101 non-null    float64\n",
      " 1   Feature2  102 non-null    int64  \n",
      " 2   Category  101 non-null    object \n",
      " 3   Target    102 non-null    int64  \n",
      "dtypes: float64(1), int64(2), object(1)\n",
      "memory usage: 3.3+ KB\n"
     ]
    }
   ],
   "source": [
    "df_dummy.info()"
   ]
  },
  {
   "cell_type": "code",
   "execution_count": 22,
   "id": "ab28d9ae-5344-4804-99d0-81bbc41ac105",
   "metadata": {},
   "outputs": [
    {
     "name": "stdout",
     "output_type": "stream",
     "text": [
      "   Feature1  Feature2    Target  Category_A  Category_B  Category_C  \\\n",
      "0  1.698298 -0.519379  0.932936        True       False       False   \n",
      "1  0.338384  0.887380  0.932936       False        True       False   \n",
      "2  0.915276  1.442679 -1.071884       False       False        True   \n",
      "3  2.173747 -0.556399  0.932936       False       False       False   \n",
      "4  1.801501 -1.222759 -1.071884        True       False       False   \n",
      "\n",
      "   Category_D  \n",
      "0       False  \n",
      "1       False  \n",
      "2       False  \n",
      "3        True  \n",
      "4       False  \n"
     ]
    }
   ],
   "source": [
    "# Clean and pre-process data\n",
    "\n",
    "# Load the data\n",
    "df_preprocessed = load_data(df_dummy)\n",
    "\n",
    "# Handle missing values\n",
    "df_preprocessed = handle_missing_values(df_preprocessed)\n",
    "\n",
    "# Remove outliers\n",
    "df_preprocessed = remove_outliers(df_preprocessed)\n",
    "\n",
    "# Scale the data\n",
    "df_preprocessed = scale_data(df_preprocessed)\n",
    "\n",
    "# Encode categorical variables\n",
    "df_preprocessed = encode_categorical(df_preprocessed, ['Category'])\n",
    "\n",
    "# Display the preprocessed data\n",
    "print(df_preprocessed.head())"
   ]
  },
  {
   "cell_type": "code",
   "execution_count": null,
   "id": "29e32be0-002a-44c9-80ad-2f01bdca7fa7",
   "metadata": {},
   "outputs": [],
   "source": []
  }
 ],
 "metadata": {
  "kernelspec": {
   "display_name": "Python 3 (ipykernel)",
   "language": "python",
   "name": "python3"
  },
  "language_info": {
   "codemirror_mode": {
    "name": "ipython",
    "version": 3
   },
   "file_extension": ".py",
   "mimetype": "text/x-python",
   "name": "python",
   "nbconvert_exporter": "python",
   "pygments_lexer": "ipython3",
   "version": "3.12.3"
  }
 },
 "nbformat": 4,
 "nbformat_minor": 5
}
